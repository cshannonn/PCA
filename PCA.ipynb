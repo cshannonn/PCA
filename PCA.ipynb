{
 "cells": [
  {
   "cell_type": "code",
   "execution_count": 63,
   "metadata": {},
   "outputs": [],
   "source": [
    "import numpy as np\n",
    "import pandas as pd\n",
    "import matplotlib.pyplot as plt\n",
    "from matplotlib.pyplot import figure\n",
    "import glob \n",
    "from numpy.linalg import eig\n",
    "import seaborn as sns\n",
    "from ipywidgets import interact, interactive, fixed\n",
    "import ipywidgets as widgets\n",
    "sns.set()\n",
    "%matplotlib inline"
   ]
  },
  {
   "cell_type": "code",
   "execution_count": 81,
   "metadata": {},
   "outputs": [],
   "source": [
    "#Get adjusting closing prices from each {sector}.csv file\n",
    "\n",
    "df = pd.concat([pd.read_csv(f, usecols=[0,5], index_col = [0]) for f in glob.glob('*.csv')], ignore_index = True, axis = 1)"
   ]
  },
  {
   "cell_type": "code",
   "execution_count": 65,
   "metadata": {},
   "outputs": [],
   "source": [
    "#Change column names to sector names\n",
    "labels = [ f[0:3] for f in glob.glob('*.csv') ]\n",
    "df.columns = labels\n",
    "\n",
    "\n",
    "#Create dictionary mapping tickers to names\n"
   ]
  },
  {
   "cell_type": "code",
   "execution_count": 86,
   "metadata": {},
   "outputs": [
    {
     "data": {
      "text/html": [
       "<div>\n",
       "<style scoped>\n",
       "    .dataframe tbody tr th:only-of-type {\n",
       "        vertical-align: middle;\n",
       "    }\n",
       "\n",
       "    .dataframe tbody tr th {\n",
       "        vertical-align: top;\n",
       "    }\n",
       "\n",
       "    .dataframe thead th {\n",
       "        text-align: right;\n",
       "    }\n",
       "</style>\n",
       "<table border=\"1\" class=\"dataframe\">\n",
       "  <thead>\n",
       "    <tr style=\"text-align: right;\">\n",
       "      <th></th>\n",
       "      <th>0</th>\n",
       "      <th>1</th>\n",
       "      <th>2</th>\n",
       "      <th>3</th>\n",
       "      <th>4</th>\n",
       "      <th>5</th>\n",
       "      <th>6</th>\n",
       "      <th>7</th>\n",
       "      <th>8</th>\n",
       "    </tr>\n",
       "    <tr>\n",
       "      <th>Date</th>\n",
       "      <th></th>\n",
       "      <th></th>\n",
       "      <th></th>\n",
       "      <th></th>\n",
       "      <th></th>\n",
       "      <th></th>\n",
       "      <th></th>\n",
       "      <th></th>\n",
       "      <th></th>\n",
       "    </tr>\n",
       "  </thead>\n",
       "  <tbody>\n",
       "    <tr>\n",
       "      <th>1998-12-23</th>\n",
       "      <td>0.010504</td>\n",
       "      <td>0.020820</td>\n",
       "      <td>0.014743</td>\n",
       "      <td>0.017452</td>\n",
       "      <td>0.023893</td>\n",
       "      <td>0.024174</td>\n",
       "      <td>-0.004191</td>\n",
       "      <td>0.022472</td>\n",
       "      <td>0.004294</td>\n",
       "    </tr>\n",
       "    <tr>\n",
       "      <th>1998-12-24</th>\n",
       "      <td>0.023014</td>\n",
       "      <td>-0.005263</td>\n",
       "      <td>0.006607</td>\n",
       "      <td>0.013193</td>\n",
       "      <td>-0.003810</td>\n",
       "      <td>-0.001727</td>\n",
       "      <td>0.018412</td>\n",
       "      <td>0.006107</td>\n",
       "      <td>0.018327</td>\n",
       "    </tr>\n",
       "    <tr>\n",
       "      <th>1998-12-28</th>\n",
       "      <td>-0.008709</td>\n",
       "      <td>-0.005291</td>\n",
       "      <td>-0.013123</td>\n",
       "      <td>0.005208</td>\n",
       "      <td>0.002867</td>\n",
       "      <td>-0.005767</td>\n",
       "      <td>-0.005167</td>\n",
       "      <td>-0.014563</td>\n",
       "      <td>-0.008999</td>\n",
       "    </tr>\n",
       "    <tr>\n",
       "      <th>1998-12-29</th>\n",
       "      <td>0.018302</td>\n",
       "      <td>0.009973</td>\n",
       "      <td>0.010638</td>\n",
       "      <td>0.014247</td>\n",
       "      <td>0.002861</td>\n",
       "      <td>0.022042</td>\n",
       "      <td>0.016615</td>\n",
       "      <td>0.022167</td>\n",
       "      <td>0.021792</td>\n",
       "    </tr>\n",
       "    <tr>\n",
       "      <th>1998-12-30</th>\n",
       "      <td>-0.002876</td>\n",
       "      <td>-0.015142</td>\n",
       "      <td>-0.003949</td>\n",
       "      <td>-0.004471</td>\n",
       "      <td>-0.003802</td>\n",
       "      <td>-0.006243</td>\n",
       "      <td>-0.008172</td>\n",
       "      <td>-0.008436</td>\n",
       "      <td>-0.008294</td>\n",
       "    </tr>\n",
       "  </tbody>\n",
       "</table>\n",
       "</div>"
      ],
      "text/plain": [
       "                   0         1         2         3         4         5  \\\n",
       "Date                                                                     \n",
       "1998-12-23  0.010504  0.020820  0.014743  0.017452  0.023893  0.024174   \n",
       "1998-12-24  0.023014 -0.005263  0.006607  0.013193 -0.003810 -0.001727   \n",
       "1998-12-28 -0.008709 -0.005291 -0.013123  0.005208  0.002867 -0.005767   \n",
       "1998-12-29  0.018302  0.009973  0.010638  0.014247  0.002861  0.022042   \n",
       "1998-12-30 -0.002876 -0.015142 -0.003949 -0.004471 -0.003802 -0.006243   \n",
       "\n",
       "                   6         7         8  \n",
       "Date                                      \n",
       "1998-12-23 -0.004191  0.022472  0.004294  \n",
       "1998-12-24  0.018412  0.006107  0.018327  \n",
       "1998-12-28 -0.005167 -0.014563 -0.008999  \n",
       "1998-12-29  0.016615  0.022167  0.021792  \n",
       "1998-12-30 -0.008172 -0.008436 -0.008294  "
      ]
     },
     "execution_count": 86,
     "metadata": {},
     "output_type": "execute_result"
    }
   ],
   "source": [
    "ret = df.pct_change().dropna()\n",
    "ret.head()\n"
   ]
  },
  {
   "cell_type": "code",
   "execution_count": 67,
   "metadata": {},
   "outputs": [
    {
     "data": {
      "text/plain": [
       "<BarContainer object of 9 artists>"
      ]
     },
     "execution_count": 67,
     "metadata": {},
     "output_type": "execute_result"
    },
    {
     "data": {
      "image/png": "[encoded data removed]",
      "text/plain": [
       "<Figure size 720x720 with 1 Axes>"
      ]
     },
     "metadata": {
      "needs_background": "light"
     },
     "output_type": "display_data"
    }
   ],
   "source": [
    "#Should you normalize this data? We'll come back to this...\n",
    "volatility = ret.std()*np.sqrt(252)\n",
    "plt.figure(figsize =(10,10))\n",
    "plt.bar(volatility.index, volatility)\n"
   ]
  },
  {
   "cell_type": "code",
   "execution_count": 68,
   "metadata": {},
   "outputs": [],
   "source": [
    "## Get Eigenvectors and Eigenvalues\n",
    "eig_val, eig_vec = eig(ret.cov())\n"
   ]
  },
  {
   "cell_type": "code",
   "execution_count": 72,
   "metadata": {},
   "outputs": [
    {
     "data": {
      "text/plain": [
       "Text(0.5,1,'Cumalative Explained Variance')"
      ]
     },
     "execution_count": 72,
     "metadata": {},
     "output_type": "execute_result"
    },
    {
     "data": {
      "image/png": "[encoded data removed]",
      "text/plain": [
       "<Figure size 720x720 with 1 Axes>"
      ]
     },
     "metadata": {
      "needs_background": "light"
     },
     "output_type": "display_data"
    }
   ],
   "source": [
    "## Plot eigen values (percentage of explained variance) and the cumulative explained variance\n",
    "\n",
    "x = list(range(len(eig_val)))\n",
    "y = [x / sum(eig_val) for x in eig_val]\n",
    "\n",
    "plt.figure(figsize =(10,10))\n",
    "plt.bar(x, y)\n",
    "plt.plot(np.cumsum(y), color = 'r')\n",
    "plt.title(\"Cumalative Explained Variance\")"
   ]
  },
  {
   "cell_type": "code",
   "execution_count": 71,
   "metadata": {},
   "outputs": [
    {
     "data": {
      "image/png": "[encoded data removed]",
      "text/plain": [
       "<Figure size 720x720 with 1 Axes>"
      ]
     },
     "metadata": {
      "needs_background": "light"
     },
     "output_type": "display_data"
    }
   ],
   "source": [
    "#project eigenvectors in 1-d\n",
    "y1 = eig_vec[0,:]\n",
    "\n",
    "plt.figure(figsize =(10,10))\n",
    "plt.scatter(y1, [0]*9, marker = 'o')\n",
    "plt.axhline(y = 0, color = 'g')\n",
    "plt.axvline(x = 0, color = 'darkcyan')\n",
    "\n",
    "for label, x_, y_ in zip(labels, y1, [0]*9):\n",
    "    plt.annotate(\n",
    "        label,\n",
    "        xy=(x_, y_), xytext=(np.random.randint(low =-30, high =30), np.random.randint(low =-30, high =30)),\n",
    "        textcoords='offset points', ha='right', va='bottom',\n",
    "        bbox=dict(boxstyle='round,pad=0.5', fc='lightblue', alpha=0.5),\n",
    "        arrowprops=dict(arrowstyle = '->', connectionstyle='arc3,rad=0'))"
   ]
  },
  {
   "cell_type": "code",
   "execution_count": 69,
   "metadata": {},
   "outputs": [
    {
     "data": {
      "image/png": "[encoded data removed]",
      "text/plain": [
       "<Figure size 720x720 with 1 Axes>"
      ]
     },
     "metadata": {
      "needs_background": "light"
     },
     "output_type": "display_data"
    }
   ],
   "source": [
    "#project eigenvectors in 2-d\n",
    "y1 = eig_vec[0,:]\n",
    "y2 = eig_vec[1,:]\n",
    "\n",
    "plt.figure(figsize =(10,10))\n",
    "plt.scatter(y1, y2, marker = 'o')\n",
    "plt.axhline(y = 0, color = 'g')\n",
    "plt.axvline(x = 0, color = 'darkcyan')\n",
    "\n",
    "for label, x_, y_ in zip(labels, y1, y2):\n",
    "    plt.annotate(\n",
    "        label,\n",
    "        xy=(x_, y_), xytext=(-20, 20),\n",
    "        textcoords='offset points', ha='right', va='bottom',\n",
    "        bbox=dict(boxstyle='round,pad=0.5', fc='lightblue', alpha=0.5),\n",
    "        arrowprops=dict(arrowstyle = '->', connectionstyle='arc3,rad=0'))"
   ]
  },
  {
   "cell_type": "code",
   "execution_count": 93,
   "metadata": {},
   "outputs": [],
   "source": [
    "## Interactive covariance\n",
    "def eig_vec_calc(returns, window, start = 0):\n",
    "    eig_val, _ = eig(returns.iloc[start:start+window,:].cov())\n",
    "    x = list(range(len(eig_val)))\n",
    "    y = [x / sum(eig_val) for x in eig_val]\n",
    "    plt.figure(figsize =(10,10))\n",
    "    plt.bar(x, y)\n",
    "    plt.title('Date: {} - {}'.format(returns.index[start], returns.index[start+window]))"
   ]
  },
  {
   "cell_type": "code",
   "execution_count": 97,
   "metadata": {},
   "outputs": [
    {
     "data": {
      "application/vnd.jupyter.widget-view+json": {
       "model_id": "b7f3039e82a246418f434a78fb1bcab7",
       "version_major": 2,
       "version_minor": 0
      },
      "text/plain": [
       "interactive(children=(IntSlider(value=160, description='window', max=300, min=30, step=10), IntSlider(value=0,…"
      ]
     },
     "metadata": {},
     "output_type": "display_data"
    },
    {
     "data": {
      "text/plain": [
       "<function __main__.eig_vec_calc(returns, window, start=0)>"
      ]
     },
     "execution_count": 97,
     "metadata": {},
     "output_type": "execute_result"
    }
   ],
   "source": [
    "interact(eig_vec_calc, returns = fixed(ret), window = (30,300,10), start = (0,4800,100))"
   ]
  },
  {
   "cell_type": "code",
   "execution_count": 99,
   "metadata": {},
   "outputs": [],
   "source": [
    "#idx = np.argsort(evals)[::-1]\n",
    "#evecs = evecs[:,idx]\n",
    "#evals = evals[idx]|"
   ]
  },
  {
   "cell_type": "code",
   "execution_count": 100,
   "metadata": {},
   "outputs": [
    {
     "data": {
      "text/html": [
       "<div>\n",
       "<style scoped>\n",
       "    .dataframe tbody tr th:only-of-type {\n",
       "        vertical-align: middle;\n",
       "    }\n",
       "\n",
       "    .dataframe tbody tr th {\n",
       "        vertical-align: top;\n",
       "    }\n",
       "\n",
       "    .dataframe thead th {\n",
       "        text-align: right;\n",
       "    }\n",
       "</style>\n",
       "<table border=\"1\" class=\"dataframe\">\n",
       "  <thead>\n",
       "    <tr style=\"text-align: right;\">\n",
       "      <th></th>\n",
       "      <th>0</th>\n",
       "      <th>1</th>\n",
       "      <th>2</th>\n",
       "      <th>3</th>\n",
       "      <th>4</th>\n",
       "      <th>5</th>\n",
       "      <th>6</th>\n",
       "      <th>7</th>\n",
       "      <th>8</th>\n",
       "    </tr>\n",
       "  </thead>\n",
       "  <tbody>\n",
       "    <tr>\n",
       "      <th>0</th>\n",
       "      <td>0.000230</td>\n",
       "      <td>0.000178</td>\n",
       "      <td>0.000187</td>\n",
       "      <td>0.000159</td>\n",
       "      <td>0.000139</td>\n",
       "      <td>0.000077</td>\n",
       "      <td>0.000088</td>\n",
       "      <td>0.000101</td>\n",
       "      <td>0.000147</td>\n",
       "    </tr>\n",
       "    <tr>\n",
       "      <th>1</th>\n",
       "      <td>0.000178</td>\n",
       "      <td>0.000290</td>\n",
       "      <td>0.000175</td>\n",
       "      <td>0.000141</td>\n",
       "      <td>0.000126</td>\n",
       "      <td>0.000074</td>\n",
       "      <td>0.000104</td>\n",
       "      <td>0.000093</td>\n",
       "      <td>0.000126</td>\n",
       "    </tr>\n",
       "    <tr>\n",
       "      <th>2</th>\n",
       "      <td>0.000187</td>\n",
       "      <td>0.000175</td>\n",
       "      <td>0.000374</td>\n",
       "      <td>0.000188</td>\n",
       "      <td>0.000188</td>\n",
       "      <td>0.000100</td>\n",
       "      <td>0.000106</td>\n",
       "      <td>0.000129</td>\n",
       "      <td>0.000196</td>\n",
       "    </tr>\n",
       "    <tr>\n",
       "      <th>3</th>\n",
       "      <td>0.000159</td>\n",
       "      <td>0.000141</td>\n",
       "      <td>0.000188</td>\n",
       "      <td>0.000173</td>\n",
       "      <td>0.000153</td>\n",
       "      <td>0.000076</td>\n",
       "      <td>0.000082</td>\n",
       "      <td>0.000105</td>\n",
       "      <td>0.000148</td>\n",
       "    </tr>\n",
       "    <tr>\n",
       "      <th>4</th>\n",
       "      <td>0.000139</td>\n",
       "      <td>0.000126</td>\n",
       "      <td>0.000188</td>\n",
       "      <td>0.000153</td>\n",
       "      <td>0.000259</td>\n",
       "      <td>0.000067</td>\n",
       "      <td>0.000082</td>\n",
       "      <td>0.000118</td>\n",
       "      <td>0.000154</td>\n",
       "    </tr>\n",
       "    <tr>\n",
       "      <th>5</th>\n",
       "      <td>0.000077</td>\n",
       "      <td>0.000074</td>\n",
       "      <td>0.000100</td>\n",
       "      <td>0.000076</td>\n",
       "      <td>0.000067</td>\n",
       "      <td>0.000089</td>\n",
       "      <td>0.000060</td>\n",
       "      <td>0.000061</td>\n",
       "      <td>0.000080</td>\n",
       "    </tr>\n",
       "    <tr>\n",
       "      <th>6</th>\n",
       "      <td>0.000088</td>\n",
       "      <td>0.000104</td>\n",
       "      <td>0.000106</td>\n",
       "      <td>0.000082</td>\n",
       "      <td>0.000082</td>\n",
       "      <td>0.000060</td>\n",
       "      <td>0.000138</td>\n",
       "      <td>0.000065</td>\n",
       "      <td>0.000079</td>\n",
       "    </tr>\n",
       "    <tr>\n",
       "      <th>7</th>\n",
       "      <td>0.000101</td>\n",
       "      <td>0.000093</td>\n",
       "      <td>0.000129</td>\n",
       "      <td>0.000105</td>\n",
       "      <td>0.000118</td>\n",
       "      <td>0.000061</td>\n",
       "      <td>0.000065</td>\n",
       "      <td>0.000127</td>\n",
       "      <td>0.000107</td>\n",
       "    </tr>\n",
       "    <tr>\n",
       "      <th>8</th>\n",
       "      <td>0.000147</td>\n",
       "      <td>0.000126</td>\n",
       "      <td>0.000196</td>\n",
       "      <td>0.000148</td>\n",
       "      <td>0.000154</td>\n",
       "      <td>0.000080</td>\n",
       "      <td>0.000079</td>\n",
       "      <td>0.000107</td>\n",
       "      <td>0.000192</td>\n",
       "    </tr>\n",
       "  </tbody>\n",
       "</table>\n",
       "</div>"
      ],
      "text/plain": [
       "          0         1         2         3         4         5         6  \\\n",
       "0  0.000230  0.000178  0.000187  0.000159  0.000139  0.000077  0.000088   \n",
       "1  0.000178  0.000290  0.000175  0.000141  0.000126  0.000074  0.000104   \n",
       "2  0.000187  0.000175  0.000374  0.000188  0.000188  0.000100  0.000106   \n",
       "3  0.000159  0.000141  0.000188  0.000173  0.000153  0.000076  0.000082   \n",
       "4  0.000139  0.000126  0.000188  0.000153  0.000259  0.000067  0.000082   \n",
       "5  0.000077  0.000074  0.000100  0.000076  0.000067  0.000089  0.000060   \n",
       "6  0.000088  0.000104  0.000106  0.000082  0.000082  0.000060  0.000138   \n",
       "7  0.000101  0.000093  0.000129  0.000105  0.000118  0.000061  0.000065   \n",
       "8  0.000147  0.000126  0.000196  0.000148  0.000154  0.000080  0.000079   \n",
       "\n",
       "          7         8  \n",
       "0  0.000101  0.000147  \n",
       "1  0.000093  0.000126  \n",
       "2  0.000129  0.000196  \n",
       "3  0.000105  0.000148  \n",
       "4  0.000118  0.000154  \n",
       "5  0.000061  0.000080  \n",
       "6  0.000065  0.000079  \n",
       "7  0.000127  0.000107  \n",
       "8  0.000107  0.000192  "
      ]
     },
     "execution_count": 100,
     "metadata": {},
     "output_type": "execute_result"
    }
   ],
   "source": [
    "cov = ret.cov()\n",
    "cov"
   ]
  },
  {
   "cell_type": "code",
   "execution_count": 108,
   "metadata": {},
   "outputs": [
    {
     "data": {
      "text/plain": [
       "array([-0.00050054, -0.00051577, -0.000409  , -0.00045167, -0.00051038,\n",
       "       -0.00021547, -0.00033186, -0.00032902, -0.0004169 ])"
      ]
     },
     "execution_count": 108,
     "metadata": {},
     "output_type": "execute_result"
    }
   ],
   "source": [
    "w = np.random.randn(9)\n",
    "np.dot(w.T,cov)"
   ]
  },
  {
   "cell_type": "code",
   "execution_count": null,
   "metadata": {},
   "outputs": [],
   "source": [
    "\n"
   ]
  },
  {
   "cell_type": "code",
   "execution_count": null,
   "metadata": {},
   "outputs": [],
   "source": []
  }
 ],
 "metadata": {
  "kernelspec": {
   "display_name": "Python 3",
   "language": "python",
   "name": "python3"
  },
  "language_info": {
   "codemirror_mode": {
    "name": "ipython",
    "version": 3
   },
   "file_extension": ".py",
   "mimetype": "text/x-python",
   "name": "python",
   "nbconvert_exporter": "python",
   "pygments_lexer": "ipython3",
   "version": "3.6.6"
  }
 },
 "nbformat": 4,
 "nbformat_minor": 2
}
