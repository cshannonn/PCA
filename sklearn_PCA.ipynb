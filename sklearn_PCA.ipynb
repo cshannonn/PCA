{
 "cells": [
  {
   "cell_type": "code",
   "execution_count": 20,
   "metadata": {
    "collapsed": true
   },
   "outputs": [],
   "source": [
    "import numpy as np\n",
    "import pandas as pd\n",
    "import matplotlib.pyplot as plt\n",
    "from matplotlib.pyplot import figure\n",
    "import glob \n",
    "from numpy.linalg import eig\n",
    "import seaborn as sns\n",
    "sns.set()\n",
    "%matplotlib inline"
   ]
  },
  {
   "cell_type": "code",
   "execution_count": 21,
   "metadata": {
    "collapsed": true
   },
   "outputs": [],
   "source": [
    "#Get adjusting closing prices from each {sector}.csv file\n",
    "\n",
    "df = pd.concat([pd.read_csv(f, usecols=[0,5], index_col = [0]) for f in glob.glob('*.csv')], ignore_index = True, axis = 1)"
   ]
  },
  {
   "cell_type": "code",
   "execution_count": 22,
   "metadata": {
    "collapsed": true
   },
   "outputs": [],
   "source": [
    "#Change column names to sector names\n",
    "labels = [ f[0:3] for f in glob.glob('*.csv') ]\n",
    "df.columns = labels\n",
    "\n",
    "#Create dictionary mapping tickers to names\n"
   ]
  },
  {
   "cell_type": "code",
   "execution_count": 23,
   "metadata": {},
   "outputs": [
    {
     "data": {
      "text/html": [
       "<div>\n",
       "<style>\n",
       "    .dataframe thead tr:only-child th {\n",
       "        text-align: right;\n",
       "    }\n",
       "\n",
       "    .dataframe thead th {\n",
       "        text-align: left;\n",
       "    }\n",
       "\n",
       "    .dataframe tbody tr th {\n",
       "        vertical-align: top;\n",
       "    }\n",
       "</style>\n",
       "<table border=\"1\" class=\"dataframe\">\n",
       "  <thead>\n",
       "    <tr style=\"text-align: right;\">\n",
       "      <th></th>\n",
       "      <th>XLP</th>\n",
       "      <th>XLI</th>\n",
       "      <th>XLY</th>\n",
       "      <th>XLE</th>\n",
       "      <th>XLU</th>\n",
       "      <th>XLF</th>\n",
       "      <th>XLK</th>\n",
       "      <th>XLV</th>\n",
       "      <th>XLB</th>\n",
       "    </tr>\n",
       "    <tr>\n",
       "      <th>Date</th>\n",
       "      <th></th>\n",
       "      <th></th>\n",
       "      <th></th>\n",
       "      <th></th>\n",
       "      <th></th>\n",
       "      <th></th>\n",
       "      <th></th>\n",
       "      <th></th>\n",
       "      <th></th>\n",
       "    </tr>\n",
       "  </thead>\n",
       "  <tbody>\n",
       "    <tr>\n",
       "      <th>1998-12-23</th>\n",
       "      <td>0.024174</td>\n",
       "      <td>0.017452</td>\n",
       "      <td>0.004294</td>\n",
       "      <td>0.020820</td>\n",
       "      <td>-0.004191</td>\n",
       "      <td>0.014743</td>\n",
       "      <td>0.023893</td>\n",
       "      <td>0.022472</td>\n",
       "      <td>0.010504</td>\n",
       "    </tr>\n",
       "    <tr>\n",
       "      <th>1998-12-24</th>\n",
       "      <td>-0.001727</td>\n",
       "      <td>0.013193</td>\n",
       "      <td>0.018327</td>\n",
       "      <td>-0.005263</td>\n",
       "      <td>0.018412</td>\n",
       "      <td>0.006607</td>\n",
       "      <td>-0.003810</td>\n",
       "      <td>0.006107</td>\n",
       "      <td>0.023014</td>\n",
       "    </tr>\n",
       "    <tr>\n",
       "      <th>1998-12-28</th>\n",
       "      <td>-0.005767</td>\n",
       "      <td>0.005208</td>\n",
       "      <td>-0.008999</td>\n",
       "      <td>-0.005291</td>\n",
       "      <td>-0.005167</td>\n",
       "      <td>-0.013123</td>\n",
       "      <td>0.002867</td>\n",
       "      <td>-0.014563</td>\n",
       "      <td>-0.008709</td>\n",
       "    </tr>\n",
       "    <tr>\n",
       "      <th>1998-12-29</th>\n",
       "      <td>0.022042</td>\n",
       "      <td>0.014247</td>\n",
       "      <td>0.021792</td>\n",
       "      <td>0.009973</td>\n",
       "      <td>0.016615</td>\n",
       "      <td>0.010638</td>\n",
       "      <td>0.002861</td>\n",
       "      <td>0.022167</td>\n",
       "      <td>0.018302</td>\n",
       "    </tr>\n",
       "    <tr>\n",
       "      <th>1998-12-30</th>\n",
       "      <td>-0.006243</td>\n",
       "      <td>-0.004471</td>\n",
       "      <td>-0.008294</td>\n",
       "      <td>-0.015142</td>\n",
       "      <td>-0.008172</td>\n",
       "      <td>-0.003949</td>\n",
       "      <td>-0.003802</td>\n",
       "      <td>-0.008436</td>\n",
       "      <td>-0.002876</td>\n",
       "    </tr>\n",
       "  </tbody>\n",
       "</table>\n",
       "</div>"
      ],
      "text/plain": [
       "                 XLP       XLI       XLY       XLE       XLU       XLF  \\\n",
       "Date                                                                     \n",
       "1998-12-23  0.024174  0.017452  0.004294  0.020820 -0.004191  0.014743   \n",
       "1998-12-24 -0.001727  0.013193  0.018327 -0.005263  0.018412  0.006607   \n",
       "1998-12-28 -0.005767  0.005208 -0.008999 -0.005291 -0.005167 -0.013123   \n",
       "1998-12-29  0.022042  0.014247  0.021792  0.009973  0.016615  0.010638   \n",
       "1998-12-30 -0.006243 -0.004471 -0.008294 -0.015142 -0.008172 -0.003949   \n",
       "\n",
       "                 XLK       XLV       XLB  \n",
       "Date                                      \n",
       "1998-12-23  0.023893  0.022472  0.010504  \n",
       "1998-12-24 -0.003810  0.006107  0.023014  \n",
       "1998-12-28  0.002867 -0.014563 -0.008709  \n",
       "1998-12-29  0.002861  0.022167  0.018302  \n",
       "1998-12-30 -0.003802 -0.008436 -0.002876  "
      ]
     },
     "execution_count": 23,
     "metadata": {},
     "output_type": "execute_result"
    }
   ],
   "source": [
    "ret = df.pct_change().dropna()\n",
    "ret.head()"
   ]
  },
  {
   "cell_type": "code",
   "execution_count": 24,
   "metadata": {},
   "outputs": [
    {
     "data": {
      "text/plain": [
       "PCA(copy=True, iterated_power='auto', n_components=9, random_state=None,\n",
       "  svd_solver='auto', tol=0.0, whiten=False)"
      ]
     },
     "execution_count": 24,
     "metadata": {},
     "output_type": "execute_result"
    }
   ],
   "source": [
    "from sklearn.decomposition import PCA\n",
    "X = np.array(ret.values)\n",
    "pca = PCA(n_components=9)\n",
    "pca.fit(X)"
   ]
  },
  {
   "cell_type": "code",
   "execution_count": 25,
   "metadata": {},
   "outputs": [
    {
     "data": {
      "text/plain": [
       "[<matplotlib.lines.Line2D at 0x7f65fd112cc0>]"
      ]
     },
     "execution_count": 25,
     "metadata": {},
     "output_type": "execute_result"
    },
    {
     "data": {
      "image/png": "[encoded data removed]",
      "text/plain": [
       "<matplotlib.figure.Figure at 0x7f65fd0ecd68>"
      ]
     },
     "metadata": {},
     "output_type": "display_data"
    }
   ],
   "source": [
    "x = list(range(len(labels)))\n",
    "\n",
    "plt.figure(figsize = (10,10))\n",
    "plt.bar(x, pca.explained_variance_ratio_)  \n",
    "y = [x / sum(pca.singular_values_) for x in pca.singular_values_]\n",
    "plt.plot(np.cumsum(y), color = 'r')"
   ]
  }
 ],
 "metadata": {
  "kernelspec": {
   "display_name": "Python 3",
   "language": "python",
   "name": "python3"
  },
  "language_info": {
   "codemirror_mode": {
    "name": "ipython",
    "version": 3
   },
   "file_extension": ".py",
   "mimetype": "text/x-python",
   "name": "python",
   "nbconvert_exporter": "python",
   "pygments_lexer": "ipython3",
   "version": "3.6.2"
  }
 },
 "nbformat": 4,
 "nbformat_minor": 2
}
