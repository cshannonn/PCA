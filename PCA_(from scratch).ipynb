{
 "cells": [
  {
   "cell_type": "code",
   "execution_count": 1,
   "metadata": {},
   "outputs": [],
   "source": [
    "import numpy as np\n",
    "import pandas as pd\n",
    "import matplotlib.pyplot as plt\n",
    "from matplotlib.pyplot import figure\n",
    "import glob \n",
    "from numpy.linalg import eig\n",
    "\n",
    "from ipywidgets import interact, interactive, fixed\n",
    "import ipywidgets as widgets\n",
    "from typing import List, Set, Dict, Tuple, Optional\n",
    "\n",
    "%matplotlib inline"
   ]
  },
  {
   "cell_type": "code",
   "execution_count": 2,
   "metadata": {},
   "outputs": [],
   "source": [
    "#Get adjusting closing prices from each {sector}.csv file\n",
    "df = pd.concat([pd.read_csv(f, usecols=[0,5], index_col = [0]) for f in glob.glob('*.csv')], ignore_index = True, axis = 1)"
   ]
  },
  {
   "cell_type": "code",
   "execution_count": 3,
   "metadata": {},
   "outputs": [],
   "source": [
    "#Change column names to sector names\n",
    "labels = [ f[0:3] for f in glob.glob('*.csv') ]\n",
    "df.columns = labels"
   ]
  },
  {
   "cell_type": "code",
   "execution_count": 10,
   "metadata": {},
   "outputs": [
    {
     "data": {
      "text/html": [
       "<div>\n",
       "<style scoped>\n",
       "    .dataframe tbody tr th:only-of-type {\n",
       "        vertical-align: middle;\n",
       "    }\n",
       "\n",
       "    .dataframe tbody tr th {\n",
       "        vertical-align: top;\n",
       "    }\n",
       "\n",
       "    .dataframe thead th {\n",
       "        text-align: right;\n",
       "    }\n",
       "</style>\n",
       "<table border=\"1\" class=\"dataframe\">\n",
       "  <thead>\n",
       "    <tr style=\"text-align: right;\">\n",
       "      <th></th>\n",
       "      <th>XLB</th>\n",
       "      <th>XLE</th>\n",
       "      <th>XLF</th>\n",
       "      <th>XLI</th>\n",
       "      <th>XLK</th>\n",
       "      <th>XLP</th>\n",
       "      <th>XLU</th>\n",
       "      <th>XLV</th>\n",
       "      <th>XLY</th>\n",
       "    </tr>\n",
       "  </thead>\n",
       "  <tbody>\n",
       "    <tr>\n",
       "      <th>XLB</th>\n",
       "      <td>0.000230</td>\n",
       "      <td>0.000178</td>\n",
       "      <td>0.000187</td>\n",
       "      <td>0.000159</td>\n",
       "      <td>0.000139</td>\n",
       "      <td>0.000077</td>\n",
       "      <td>0.000088</td>\n",
       "      <td>0.000101</td>\n",
       "      <td>0.000147</td>\n",
       "    </tr>\n",
       "    <tr>\n",
       "      <th>XLE</th>\n",
       "      <td>0.000178</td>\n",
       "      <td>0.000290</td>\n",
       "      <td>0.000175</td>\n",
       "      <td>0.000141</td>\n",
       "      <td>0.000126</td>\n",
       "      <td>0.000074</td>\n",
       "      <td>0.000104</td>\n",
       "      <td>0.000093</td>\n",
       "      <td>0.000126</td>\n",
       "    </tr>\n",
       "    <tr>\n",
       "      <th>XLF</th>\n",
       "      <td>0.000187</td>\n",
       "      <td>0.000175</td>\n",
       "      <td>0.000374</td>\n",
       "      <td>0.000188</td>\n",
       "      <td>0.000188</td>\n",
       "      <td>0.000100</td>\n",
       "      <td>0.000106</td>\n",
       "      <td>0.000129</td>\n",
       "      <td>0.000196</td>\n",
       "    </tr>\n",
       "    <tr>\n",
       "      <th>XLI</th>\n",
       "      <td>0.000159</td>\n",
       "      <td>0.000141</td>\n",
       "      <td>0.000188</td>\n",
       "      <td>0.000173</td>\n",
       "      <td>0.000153</td>\n",
       "      <td>0.000076</td>\n",
       "      <td>0.000082</td>\n",
       "      <td>0.000105</td>\n",
       "      <td>0.000148</td>\n",
       "    </tr>\n",
       "    <tr>\n",
       "      <th>XLK</th>\n",
       "      <td>0.000139</td>\n",
       "      <td>0.000126</td>\n",
       "      <td>0.000188</td>\n",
       "      <td>0.000153</td>\n",
       "      <td>0.000259</td>\n",
       "      <td>0.000067</td>\n",
       "      <td>0.000082</td>\n",
       "      <td>0.000118</td>\n",
       "      <td>0.000154</td>\n",
       "    </tr>\n",
       "    <tr>\n",
       "      <th>XLP</th>\n",
       "      <td>0.000077</td>\n",
       "      <td>0.000074</td>\n",
       "      <td>0.000100</td>\n",
       "      <td>0.000076</td>\n",
       "      <td>0.000067</td>\n",
       "      <td>0.000089</td>\n",
       "      <td>0.000060</td>\n",
       "      <td>0.000061</td>\n",
       "      <td>0.000080</td>\n",
       "    </tr>\n",
       "    <tr>\n",
       "      <th>XLU</th>\n",
       "      <td>0.000088</td>\n",
       "      <td>0.000104</td>\n",
       "      <td>0.000106</td>\n",
       "      <td>0.000082</td>\n",
       "      <td>0.000082</td>\n",
       "      <td>0.000060</td>\n",
       "      <td>0.000138</td>\n",
       "      <td>0.000065</td>\n",
       "      <td>0.000079</td>\n",
       "    </tr>\n",
       "    <tr>\n",
       "      <th>XLV</th>\n",
       "      <td>0.000101</td>\n",
       "      <td>0.000093</td>\n",
       "      <td>0.000129</td>\n",
       "      <td>0.000105</td>\n",
       "      <td>0.000118</td>\n",
       "      <td>0.000061</td>\n",
       "      <td>0.000065</td>\n",
       "      <td>0.000127</td>\n",
       "      <td>0.000107</td>\n",
       "    </tr>\n",
       "    <tr>\n",
       "      <th>XLY</th>\n",
       "      <td>0.000147</td>\n",
       "      <td>0.000126</td>\n",
       "      <td>0.000196</td>\n",
       "      <td>0.000148</td>\n",
       "      <td>0.000154</td>\n",
       "      <td>0.000080</td>\n",
       "      <td>0.000079</td>\n",
       "      <td>0.000107</td>\n",
       "      <td>0.000192</td>\n",
       "    </tr>\n",
       "  </tbody>\n",
       "</table>\n",
       "</div>"
      ],
      "text/plain": [
       "          XLB       XLE       XLF       XLI       XLK       XLP       XLU  \\\n",
       "XLB  0.000230  0.000178  0.000187  0.000159  0.000139  0.000077  0.000088   \n",
       "XLE  0.000178  0.000290  0.000175  0.000141  0.000126  0.000074  0.000104   \n",
       "XLF  0.000187  0.000175  0.000374  0.000188  0.000188  0.000100  0.000106   \n",
       "XLI  0.000159  0.000141  0.000188  0.000173  0.000153  0.000076  0.000082   \n",
       "XLK  0.000139  0.000126  0.000188  0.000153  0.000259  0.000067  0.000082   \n",
       "XLP  0.000077  0.000074  0.000100  0.000076  0.000067  0.000089  0.000060   \n",
       "XLU  0.000088  0.000104  0.000106  0.000082  0.000082  0.000060  0.000138   \n",
       "XLV  0.000101  0.000093  0.000129  0.000105  0.000118  0.000061  0.000065   \n",
       "XLY  0.000147  0.000126  0.000196  0.000148  0.000154  0.000080  0.000079   \n",
       "\n",
       "          XLV       XLY  \n",
       "XLB  0.000101  0.000147  \n",
       "XLE  0.000093  0.000126  \n",
       "XLF  0.000129  0.000196  \n",
       "XLI  0.000105  0.000148  \n",
       "XLK  0.000118  0.000154  \n",
       "XLP  0.000061  0.000080  \n",
       "XLU  0.000065  0.000079  \n",
       "XLV  0.000127  0.000107  \n",
       "XLY  0.000107  0.000192  "
      ]
     },
     "execution_count": 10,
     "metadata": {},
     "output_type": "execute_result"
    }
   ],
   "source": [
    "ret.cov()"
   ]
  },
  {
   "cell_type": "code",
   "execution_count": 21,
   "metadata": {},
   "outputs": [
    {
     "data": {
      "text/plain": [
       "(9, 9)"
      ]
     },
     "execution_count": 21,
     "metadata": {},
     "output_type": "execute_result"
    }
   ],
   "source": [
    "A = ret.T@ret/len(ret) \n",
    "np.shape(A)"
   ]
  },
  {
   "cell_type": "code",
   "execution_count": 32,
   "metadata": {},
   "outputs": [
    {
     "data": {
      "text/plain": [
       "-0.9981276285474179"
      ]
     },
     "execution_count": 32,
     "metadata": {},
     "output_type": "execute_result"
    }
   ],
   "source": [
    "I = np.eye(*np.shape(A))\n",
    "np.linalg.det(A-I)"
   ]
  },
  {
   "cell_type": "markdown",
   "metadata": {},
   "source": [
    "$cov_{x,y}=\\frac{\\sum_{i=1}^{N}(x_{i}-\\bar{x})(y_{i}-\\bar{y})}{N-1}$"
   ]
  },
  {
   "cell_type": "code",
   "execution_count": 48,
   "metadata": {},
   "outputs": [],
   "source": [
    "## Get Eigenvectors and Eigenvalues\n",
    "def get_eigen(returns: pd.DataFrame) -> Tuple [np.ndarray, np.ndarray]:\n",
    "    \n",
    "    eig_vals, eig_vec = eig(returns.cov())\n",
    "    \n",
    "    #Sort Eigenvalues (largest to smallest)\n",
    "    idx = np.argsort(eig_vals)[::-1]\n",
    "    eig_vals = eig_vals[idx]\n",
    "    eig_vec = eig_vec[:,idx]\n",
    "    return eig_vals, eig_vec"
   ]
  },
  {
   "cell_type": "code",
   "execution_count": 49,
   "metadata": {},
   "outputs": [],
   "source": [
    "def eig_help(eig_val: np.ndarray) -> Tuple[List, List]:\n",
    "    x = list(range(eig_val.size))\n",
    "    y = [val / sum (eig_val) for val in eig_val]\n",
    "    return x, y"
   ]
  },
  {
   "cell_type": "code",
   "execution_count": 53,
   "metadata": {},
   "outputs": [
    {
     "data": {
      "text/plain": [
       "Text(0.5,1,'Cumalative Explained Variance')"
      ]
     },
     "execution_count": 53,
     "metadata": {},
     "output_type": "execute_result"
    },
    {
     "data": {
      "image/png": "[encoded data removed]",
      "text/plain": [
       "<Figure size 720x720 with 1 Axes>"
      ]
     },
     "metadata": {
      "needs_background": "light"
     },
     "output_type": "display_data"
    }
   ],
   "source": [
    "## Plot eigen values (percentage of explained variance) and the cumulative explained variance\n",
    "eig_val, eig_vec = get_eigen(ret)\n",
    "\n",
    "x,y = eig_help(eig_val)\n",
    "\n",
    "plt.figure(figsize =(10,10))\n",
    "plt.bar(x, y)\n",
    "plt.plot(np.cumsum(y), color = 'c')\n",
    "plt.title(\"Cumalative Explained Variance\")"
   ]
  },
  {
   "cell_type": "code",
   "execution_count": 52,
   "metadata": {},
   "outputs": [
    {
     "data": {
      "image/png": "[encoded data removed]",
      "text/plain": [
       "<Figure size 720x720 with 1 Axes>"
      ]
     },
     "metadata": {
      "needs_background": "light"
     },
     "output_type": "display_data"
    }
   ],
   "source": [
    "#project eigenvectors in 1-d\n",
    "y1 = eig_vec[0,:]\n",
    "\n",
    "plt.figure(figsize =(10,10))\n",
    "plt.scatter(y1, [0]*9, marker = 'o')\n",
    "plt.axhline(y = 0, color = 'g')\n",
    "plt.axvline(x = 0, color = 'darkcyan')\n",
    "\n",
    "for label, x_, y_ in zip(labels, y1, [0]*9):\n",
    "    plt.annotate(\n",
    "        label,\n",
    "        xy=(x_, y_), xytext=(np.random.randint(low =-30, high =30), np.random.randint(low =-30, high =30)),\n",
    "        textcoords='offset points', ha='right', va='bottom',\n",
    "        bbox=dict(boxstyle='round,pad=0.5', fc='lightblue', alpha=0.5),\n",
    "        arrowprops=dict(arrowstyle = '->', connectionstyle='arc3,rad=0'))"
   ]
  },
  {
   "cell_type": "code",
   "execution_count": 50,
   "metadata": {},
   "outputs": [
    {
     "data": {
      "image/png": "[encoded data removed]",
      "text/plain": [
       "<Figure size 720x720 with 1 Axes>"
      ]
     },
     "metadata": {
      "needs_background": "light"
     },
     "output_type": "display_data"
    }
   ],
   "source": [
    "#project eigenvectors in 2-d\n",
    "y1 = eig_vec[0,:]\n",
    "y2 = eig_vec[1,:]\n",
    "\n",
    "plt.figure(figsize =(10,10))\n",
    "plt.scatter(y1, y2, marker = 'o')\n",
    "plt.axhline(y = 0, color = 'g')\n",
    "plt.axvline(x = 0, color = 'darkcyan')\n",
    "\n",
    "for label, x_, y_ in zip(labels, y1, y2):\n",
    "    plt.annotate(\n",
    "        label,\n",
    "        xy=(x_, y_), xytext=(-20, 20),\n",
    "        textcoords='offset points', ha='right', va='bottom',\n",
    "        bbox=dict(boxstyle='round,pad=0.5', fc='lightblue', alpha=0.5),\n",
    "        arrowprops=dict(arrowstyle = '->', connectionstyle='arc3,rad=0'))"
   ]
  },
  {
   "cell_type": "code",
   "execution_count": 73,
   "metadata": {},
   "outputs": [],
   "source": [
    "## Interactive covariance\n",
    "def eig_vec_calc(returns, window, start = 0):\n",
    "    eig_val, _ = get_eigen(returns.iloc[start:start+window,:].cov())\n",
    "    x,y = eig_help(eig_val)\n",
    "    plt.figure(figsize =(10,10))\n",
    "    plt.plot(np.cumsum(y), color = 'c')\n",
    "    plt.ylim((0,1))\n",
    "    plt.bar(x, y)\n",
    "    plt.title('Date: {} - {}'.format(returns.index[start], returns.index[start+window]))"
   ]
  },
  {
   "cell_type": "code",
   "execution_count": 74,
   "metadata": {},
   "outputs": [
    {
     "data": {
      "application/vnd.jupyter.widget-view+json": {
       "model_id": "4b754875a1d84e1faf5c432eb8b54bf5",
       "version_major": 2,
       "version_minor": 0
      },
      "text/plain": [
       "interactive(children=(IntSlider(value=160, description='window', max=300, min=30, step=10), IntSlider(value=0,…"
      ]
     },
     "metadata": {},
     "output_type": "display_data"
    },
    {
     "data": {
      "text/plain": [
       "<function __main__.eig_vec_calc(returns, window, start=0)>"
      ]
     },
     "execution_count": 74,
     "metadata": {},
     "output_type": "execute_result"
    }
   ],
   "source": [
    "\n",
    "interact(eig_vec_calc, returns = fixed(ret), window = (30,300,10), start = (0,4800,30))"
   ]
  },
  {
   "cell_type": "code",
   "execution_count": null,
   "metadata": {},
   "outputs": [],
   "source": []
  }
 ],
 "metadata": {
  "kernelspec": {
   "display_name": "Python 3",
   "language": "python",
   "name": "python3"
  },
  "language_info": {
   "codemirror_mode": {
    "name": "ipython",
    "version": 3
   },
   "file_extension": ".py",
   "mimetype": "text/x-python",
   "name": "python",
   "nbconvert_exporter": "python",
   "pygments_lexer": "ipython3",
   "version": "3.6.6"
  }
 },
 "nbformat": 4,
 "nbformat_minor": 2
}
