{
 "cells": [
  {
   "cell_type": "code",
   "execution_count": 99,
   "metadata": {},
   "outputs": [],
   "source": [
    "import numpy as np\n",
    "import pandas as pd\n",
    "import matplotlib.pyplot as plt\n",
    "from matplotlib.pyplot import figure\n",
    "import glob \n",
    "from numpy.linalg import eig\n",
    "import seaborn as sns\n",
    "sns.set()\n",
    "%matplotlib inline"
   ]
  },
  {
   "cell_type": "code",
   "execution_count": 59,
   "metadata": {},
   "outputs": [],
   "source": [
    "df = pd.concat([pd.read_csv(f, usecols=[0,5], index_col = [0]) for f in glob.glob('*.csv')], ignore_index = True, axis = 1)"
   ]
  },
  {
   "cell_type": "code",
   "execution_count": 71,
   "metadata": {},
   "outputs": [
    {
     "data": {
      "text/html": [
       "<div>\n",
       "<style scoped>\n",
       "    .dataframe tbody tr th:only-of-type {\n",
       "        vertical-align: middle;\n",
       "    }\n",
       "\n",
       "    .dataframe tbody tr th {\n",
       "        vertical-align: top;\n",
       "    }\n",
       "\n",
       "    .dataframe thead th {\n",
       "        text-align: right;\n",
       "    }\n",
       "</style>\n",
       "<table border=\"1\" class=\"dataframe\">\n",
       "  <thead>\n",
       "    <tr style=\"text-align: right;\">\n",
       "      <th></th>\n",
       "      <th>XLB</th>\n",
       "      <th>XLE</th>\n",
       "      <th>XLF</th>\n",
       "      <th>XLI</th>\n",
       "      <th>XLK</th>\n",
       "      <th>XLP</th>\n",
       "      <th>XLU</th>\n",
       "      <th>XLV</th>\n",
       "      <th>XLY</th>\n",
       "    </tr>\n",
       "    <tr>\n",
       "      <th>Date</th>\n",
       "      <th></th>\n",
       "      <th></th>\n",
       "      <th></th>\n",
       "      <th></th>\n",
       "      <th></th>\n",
       "      <th></th>\n",
       "      <th></th>\n",
       "      <th></th>\n",
       "      <th></th>\n",
       "    </tr>\n",
       "  </thead>\n",
       "  <tbody>\n",
       "    <tr>\n",
       "      <th>1998-12-22</th>\n",
       "      <td>13.326187</td>\n",
       "      <td>16.030661</td>\n",
       "      <td>9.767839</td>\n",
       "      <td>16.370098</td>\n",
       "      <td>25.580147</td>\n",
       "      <td>17.100040</td>\n",
       "      <td>14.737362</td>\n",
       "      <td>19.090425</td>\n",
       "      <td>20.134567</td>\n",
       "    </tr>\n",
       "    <tr>\n",
       "      <th>1998-12-23</th>\n",
       "      <td>13.466161</td>\n",
       "      <td>16.364420</td>\n",
       "      <td>9.911845</td>\n",
       "      <td>16.655781</td>\n",
       "      <td>26.191339</td>\n",
       "      <td>17.513418</td>\n",
       "      <td>14.675605</td>\n",
       "      <td>19.519430</td>\n",
       "      <td>20.221031</td>\n",
       "    </tr>\n",
       "    <tr>\n",
       "      <th>1998-12-24</th>\n",
       "      <td>13.776071</td>\n",
       "      <td>16.278292</td>\n",
       "      <td>9.977332</td>\n",
       "      <td>16.875517</td>\n",
       "      <td>26.091562</td>\n",
       "      <td>17.483175</td>\n",
       "      <td>14.945813</td>\n",
       "      <td>19.638632</td>\n",
       "      <td>20.591616</td>\n",
       "    </tr>\n",
       "    <tr>\n",
       "      <th>1998-12-28</th>\n",
       "      <td>13.656102</td>\n",
       "      <td>16.192167</td>\n",
       "      <td>9.846398</td>\n",
       "      <td>16.963413</td>\n",
       "      <td>26.166361</td>\n",
       "      <td>17.382345</td>\n",
       "      <td>14.868592</td>\n",
       "      <td>19.352631</td>\n",
       "      <td>20.406319</td>\n",
       "    </tr>\n",
       "    <tr>\n",
       "      <th>1998-12-29</th>\n",
       "      <td>13.906034</td>\n",
       "      <td>16.353655</td>\n",
       "      <td>9.951146</td>\n",
       "      <td>17.205086</td>\n",
       "      <td>26.241230</td>\n",
       "      <td>17.765488</td>\n",
       "      <td>15.115628</td>\n",
       "      <td>19.781630</td>\n",
       "      <td>20.851015</td>\n",
       "    </tr>\n",
       "  </tbody>\n",
       "</table>\n",
       "</div>"
      ],
      "text/plain": [
       "                  XLB        XLE       XLF        XLI        XLK        XLP  \\\n",
       "Date                                                                          \n",
       "1998-12-22  13.326187  16.030661  9.767839  16.370098  25.580147  17.100040   \n",
       "1998-12-23  13.466161  16.364420  9.911845  16.655781  26.191339  17.513418   \n",
       "1998-12-24  13.776071  16.278292  9.977332  16.875517  26.091562  17.483175   \n",
       "1998-12-28  13.656102  16.192167  9.846398  16.963413  26.166361  17.382345   \n",
       "1998-12-29  13.906034  16.353655  9.951146  17.205086  26.241230  17.765488   \n",
       "\n",
       "                  XLU        XLV        XLY  \n",
       "Date                                         \n",
       "1998-12-22  14.737362  19.090425  20.134567  \n",
       "1998-12-23  14.675605  19.519430  20.221031  \n",
       "1998-12-24  14.945813  19.638632  20.591616  \n",
       "1998-12-28  14.868592  19.352631  20.406319  \n",
       "1998-12-29  15.115628  19.781630  20.851015  "
      ]
     },
     "execution_count": 71,
     "metadata": {},
     "output_type": "execute_result"
    }
   ],
   "source": [
    "df.columns = [x[0:3] for x in files]\n",
    "df.head()"
   ]
  },
  {
   "cell_type": "code",
   "execution_count": 72,
   "metadata": {},
   "outputs": [
    {
     "data": {
      "text/html": [
       "<div>\n",
       "<style scoped>\n",
       "    .dataframe tbody tr th:only-of-type {\n",
       "        vertical-align: middle;\n",
       "    }\n",
       "\n",
       "    .dataframe tbody tr th {\n",
       "        vertical-align: top;\n",
       "    }\n",
       "\n",
       "    .dataframe thead th {\n",
       "        text-align: right;\n",
       "    }\n",
       "</style>\n",
       "<table border=\"1\" class=\"dataframe\">\n",
       "  <thead>\n",
       "    <tr style=\"text-align: right;\">\n",
       "      <th></th>\n",
       "      <th>XLB</th>\n",
       "      <th>XLE</th>\n",
       "      <th>XLF</th>\n",
       "      <th>XLI</th>\n",
       "      <th>XLK</th>\n",
       "      <th>XLP</th>\n",
       "      <th>XLU</th>\n",
       "      <th>XLV</th>\n",
       "      <th>XLY</th>\n",
       "    </tr>\n",
       "    <tr>\n",
       "      <th>Date</th>\n",
       "      <th></th>\n",
       "      <th></th>\n",
       "      <th></th>\n",
       "      <th></th>\n",
       "      <th></th>\n",
       "      <th></th>\n",
       "      <th></th>\n",
       "      <th></th>\n",
       "      <th></th>\n",
       "    </tr>\n",
       "  </thead>\n",
       "  <tbody>\n",
       "    <tr>\n",
       "      <th>1998-12-23</th>\n",
       "      <td>0.010504</td>\n",
       "      <td>0.020820</td>\n",
       "      <td>0.014743</td>\n",
       "      <td>0.017452</td>\n",
       "      <td>0.023893</td>\n",
       "      <td>0.024174</td>\n",
       "      <td>-0.004191</td>\n",
       "      <td>0.022472</td>\n",
       "      <td>0.004294</td>\n",
       "    </tr>\n",
       "    <tr>\n",
       "      <th>1998-12-24</th>\n",
       "      <td>0.023014</td>\n",
       "      <td>-0.005263</td>\n",
       "      <td>0.006607</td>\n",
       "      <td>0.013193</td>\n",
       "      <td>-0.003810</td>\n",
       "      <td>-0.001727</td>\n",
       "      <td>0.018412</td>\n",
       "      <td>0.006107</td>\n",
       "      <td>0.018327</td>\n",
       "    </tr>\n",
       "    <tr>\n",
       "      <th>1998-12-28</th>\n",
       "      <td>-0.008709</td>\n",
       "      <td>-0.005291</td>\n",
       "      <td>-0.013123</td>\n",
       "      <td>0.005208</td>\n",
       "      <td>0.002867</td>\n",
       "      <td>-0.005767</td>\n",
       "      <td>-0.005167</td>\n",
       "      <td>-0.014563</td>\n",
       "      <td>-0.008999</td>\n",
       "    </tr>\n",
       "    <tr>\n",
       "      <th>1998-12-29</th>\n",
       "      <td>0.018302</td>\n",
       "      <td>0.009973</td>\n",
       "      <td>0.010638</td>\n",
       "      <td>0.014247</td>\n",
       "      <td>0.002861</td>\n",
       "      <td>0.022042</td>\n",
       "      <td>0.016615</td>\n",
       "      <td>0.022167</td>\n",
       "      <td>0.021792</td>\n",
       "    </tr>\n",
       "    <tr>\n",
       "      <th>1998-12-30</th>\n",
       "      <td>-0.002876</td>\n",
       "      <td>-0.015142</td>\n",
       "      <td>-0.003949</td>\n",
       "      <td>-0.004471</td>\n",
       "      <td>-0.003802</td>\n",
       "      <td>-0.006243</td>\n",
       "      <td>-0.008172</td>\n",
       "      <td>-0.008436</td>\n",
       "      <td>-0.008294</td>\n",
       "    </tr>\n",
       "  </tbody>\n",
       "</table>\n",
       "</div>"
      ],
      "text/plain": [
       "                 XLB       XLE       XLF       XLI       XLK       XLP  \\\n",
       "Date                                                                     \n",
       "1998-12-23  0.010504  0.020820  0.014743  0.017452  0.023893  0.024174   \n",
       "1998-12-24  0.023014 -0.005263  0.006607  0.013193 -0.003810 -0.001727   \n",
       "1998-12-28 -0.008709 -0.005291 -0.013123  0.005208  0.002867 -0.005767   \n",
       "1998-12-29  0.018302  0.009973  0.010638  0.014247  0.002861  0.022042   \n",
       "1998-12-30 -0.002876 -0.015142 -0.003949 -0.004471 -0.003802 -0.006243   \n",
       "\n",
       "                 XLU       XLV       XLY  \n",
       "Date                                      \n",
       "1998-12-23 -0.004191  0.022472  0.004294  \n",
       "1998-12-24  0.018412  0.006107  0.018327  \n",
       "1998-12-28 -0.005167 -0.014563 -0.008999  \n",
       "1998-12-29  0.016615  0.022167  0.021792  \n",
       "1998-12-30 -0.008172 -0.008436 -0.008294  "
      ]
     },
     "execution_count": 72,
     "metadata": {},
     "output_type": "execute_result"
    }
   ],
   "source": [
    "ret = df.pct_change().dropna()\n",
    "ret.head()"
   ]
  },
  {
   "cell_type": "code",
   "execution_count": 116,
   "metadata": {},
   "outputs": [],
   "source": [
    "## Get Eigenvectors and Eigenvalues\n",
    "values, vectors = eig(ret.cov())\n"
   ]
  },
  {
   "cell_type": "code",
   "execution_count": 117,
   "metadata": {},
   "outputs": [
    {
     "data": {
      "text/plain": [
       "[<matplotlib.lines.Line2D at 0x21c19b76a20>]"
      ]
     },
     "execution_count": 117,
     "metadata": {},
     "output_type": "execute_result"
    },
    {
     "data": {
      "image/png": "[encoded data removed]",
      "text/plain": [
       "<Figure size 720x720 with 1 Axes>"
      ]
     },
     "metadata": {
      "needs_background": "light"
     },
     "output_type": "display_data"
    }
   ],
   "source": [
    "x = list(range(len(values)))\n",
    "y = [x / sum(values) for x in values]\n",
    "\n",
    "plt.figure(figsize =(10,10))\n",
    "plt.bar(x, y)\n",
    "plt.plot(np.cumsum(y), color = 'r')\n"
   ]
  },
  {
   "cell_type": "code",
   "execution_count": 107,
   "metadata": {},
   "outputs": [
    {
     "data": {
      "text/plain": [
       "array([[ 0.36724074, -0.25759109, -0.02421348, -0.26722406, -0.58114996,\n",
       "         0.30962226, -0.48744441,  0.22066421, -0.08300673],\n",
       "       [ 0.36592793, -0.76377526, -0.00374225, -0.19898568,  0.39719585,\n",
       "         0.00691412,  0.27937528, -0.08468138,  0.01004817],\n",
       "       [ 0.47385728,  0.34301962,  0.73710623, -0.0492172 ,  0.29013107,\n",
       "         0.05331697, -0.08060936,  0.13240161, -0.03165582],\n",
       "       [ 0.3429668 ,  0.04742317, -0.0904603 , -0.07419323, -0.22988253,\n",
       "        -0.90100327, -0.03262582, -0.02605067,  0.00641568],\n",
       "       [ 0.36124148,  0.38157249, -0.6270062 , -0.1976122 ,  0.43125889,\n",
       "         0.13346336, -0.19862066, -0.0358322 , -0.21722996],\n",
       "       [ 0.18224429, -0.00686116,  0.02709067,  0.37987377, -0.22940792,\n",
       "         0.08153579,  0.31360949, -0.17363719, -0.79619413],\n",
       "       [ 0.21317937, -0.17945527, -0.08793246,  0.81314346,  0.14847009,\n",
       "        -0.00661177, -0.41989757, -0.02889896,  0.23276544],\n",
       "       [ 0.24753936,  0.11942812, -0.210308  ,  0.19104762, -0.13783402,\n",
       "         0.1038051 ,  0.52848283,  0.68781974,  0.24813045],\n",
       "       [ 0.34443355,  0.19562938, -0.04537387,  0.00358968, -0.29635176,\n",
       "         0.23271632,  0.28874892, -0.64850796,  0.44170493]])"
      ]
     },
     "execution_count": 107,
     "metadata": {},
     "output_type": "execute_result"
    }
   ],
   "source": [
    "vectors"
   ]
  },
  {
   "cell_type": "code",
   "execution_count": null,
   "metadata": {},
   "outputs": [],
   "source": []
  }
 ],
 "metadata": {
  "kernelspec": {
   "display_name": "Python 3",
   "language": "python",
   "name": "python3"
  },
  "language_info": {
   "codemirror_mode": {
    "name": "ipython",
    "version": 3
   },
   "file_extension": ".py",
   "mimetype": "text/x-python",
   "name": "python",
   "nbconvert_exporter": "python",
   "pygments_lexer": "ipython3",
   "version": "3.6.6"
  }
 },
 "nbformat": 4,
 "nbformat_minor": 2
}
