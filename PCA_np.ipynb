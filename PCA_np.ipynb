{
 "cells": [
  {
   "cell_type": "code",
   "execution_count": 27,
   "metadata": {},
   "outputs": [],
   "source": [
    "import numpy as np\n",
    "import pandas as pd\n",
    "import matplotlib.pyplot as plt\n",
    "from matplotlib.pyplot import figure\n",
    "import glob \n",
    "from numpy.linalg import eig\n",
    "\n",
    "from ipywidgets import interact, interactive, fixed\n",
    "import ipywidgets as widgets\n",
    "from typing import List, Set, Dict, Tuple, Optional\n",
    "\n",
    "%matplotlib inline"
   ]
  },
  {
   "cell_type": "code",
   "execution_count": 28,
   "metadata": {},
   "outputs": [],
   "source": [
    "#Get adjusting closing prices from each {sector}.csv file\n",
    "#for f in glob.glob('*.csv'):\n",
    "#    df = pd.concat(pd.read_csv(f, usecols=[0,5], index_col = [0]), ignore_index = True, axis = 1)\n",
    "\n",
    "df = pd.concat([pd.read_csv(f, usecols=[0,5], index_col = [0]) for f in glob.glob('*.csv')], ignore_index = True, axis = 1)"
   ]
  },
  {
   "cell_type": "code",
   "execution_count": 29,
   "metadata": {},
   "outputs": [
    {
     "data": {
      "text/html": [
       "<div>\n",
       "<style scoped>\n",
       "    .dataframe tbody tr th:only-of-type {\n",
       "        vertical-align: middle;\n",
       "    }\n",
       "\n",
       "    .dataframe tbody tr th {\n",
       "        vertical-align: top;\n",
       "    }\n",
       "\n",
       "    .dataframe thead th {\n",
       "        text-align: right;\n",
       "    }\n",
       "</style>\n",
       "<table border=\"1\" class=\"dataframe\">\n",
       "  <thead>\n",
       "    <tr style=\"text-align: right;\">\n",
       "      <th></th>\n",
       "      <th>Adj Close</th>\n",
       "    </tr>\n",
       "    <tr>\n",
       "      <th>Date</th>\n",
       "      <th></th>\n",
       "    </tr>\n",
       "  </thead>\n",
       "  <tbody>\n",
       "    <tr>\n",
       "      <th>1998-12-23</th>\n",
       "      <td>0.020747</td>\n",
       "    </tr>\n",
       "    <tr>\n",
       "      <th>1998-12-24</th>\n",
       "      <td>-0.001848</td>\n",
       "    </tr>\n",
       "    <tr>\n",
       "      <th>1998-12-28</th>\n",
       "      <td>-0.000636</td>\n",
       "    </tr>\n",
       "    <tr>\n",
       "      <th>1998-12-29</th>\n",
       "      <td>0.013317</td>\n",
       "    </tr>\n",
       "    <tr>\n",
       "      <th>1998-12-30</th>\n",
       "      <td>-0.007956</td>\n",
       "    </tr>\n",
       "  </tbody>\n",
       "</table>\n",
       "</div>"
      ],
      "text/plain": [
       "            Adj Close\n",
       "Date                 \n",
       "1998-12-23   0.020747\n",
       "1998-12-24  -0.001848\n",
       "1998-12-28  -0.000636\n",
       "1998-12-29   0.013317\n",
       "1998-12-30  -0.007956"
      ]
     },
     "execution_count": 29,
     "metadata": {},
     "output_type": "execute_result"
    }
   ],
   "source": [
    "df_spx = pd.read_csv(\"SPX/^GSPC.csv\", usecols = [0,5], index_col=[0], parse_dates=True)\n",
    "df_spx_ret = df_spx.pct_change().dropna()\n",
    "df_spx_ret.head()"
   ]
  },
  {
   "cell_type": "code",
   "execution_count": 30,
   "metadata": {},
   "outputs": [],
   "source": [
    "#Change column names to sector names\n",
    "labels = [ f[0:3] for f in glob.glob('*.csv') ]\n",
    "df.columns = labels"
   ]
  },
  {
   "cell_type": "code",
   "execution_count": 31,
   "metadata": {},
   "outputs": [
    {
     "data": {
      "text/html": [
       "<div>\n",
       "<style scoped>\n",
       "    .dataframe tbody tr th:only-of-type {\n",
       "        vertical-align: middle;\n",
       "    }\n",
       "\n",
       "    .dataframe tbody tr th {\n",
       "        vertical-align: top;\n",
       "    }\n",
       "\n",
       "    .dataframe thead th {\n",
       "        text-align: right;\n",
       "    }\n",
       "</style>\n",
       "<table border=\"1\" class=\"dataframe\">\n",
       "  <thead>\n",
       "    <tr style=\"text-align: right;\">\n",
       "      <th></th>\n",
       "      <th>XLB</th>\n",
       "      <th>XLE</th>\n",
       "      <th>XLF</th>\n",
       "      <th>XLI</th>\n",
       "      <th>XLK</th>\n",
       "      <th>XLP</th>\n",
       "      <th>XLU</th>\n",
       "      <th>XLV</th>\n",
       "      <th>XLY</th>\n",
       "    </tr>\n",
       "    <tr>\n",
       "      <th>Date</th>\n",
       "      <th></th>\n",
       "      <th></th>\n",
       "      <th></th>\n",
       "      <th></th>\n",
       "      <th></th>\n",
       "      <th></th>\n",
       "      <th></th>\n",
       "      <th></th>\n",
       "      <th></th>\n",
       "    </tr>\n",
       "  </thead>\n",
       "  <tbody>\n",
       "    <tr>\n",
       "      <th>1998-12-23</th>\n",
       "      <td>0.010504</td>\n",
       "      <td>0.020820</td>\n",
       "      <td>0.014743</td>\n",
       "      <td>0.017452</td>\n",
       "      <td>0.023893</td>\n",
       "      <td>0.024174</td>\n",
       "      <td>-0.004191</td>\n",
       "      <td>0.022472</td>\n",
       "      <td>0.004294</td>\n",
       "    </tr>\n",
       "    <tr>\n",
       "      <th>1998-12-24</th>\n",
       "      <td>0.023014</td>\n",
       "      <td>-0.005263</td>\n",
       "      <td>0.006607</td>\n",
       "      <td>0.013193</td>\n",
       "      <td>-0.003810</td>\n",
       "      <td>-0.001727</td>\n",
       "      <td>0.018412</td>\n",
       "      <td>0.006107</td>\n",
       "      <td>0.018327</td>\n",
       "    </tr>\n",
       "    <tr>\n",
       "      <th>1998-12-28</th>\n",
       "      <td>-0.008709</td>\n",
       "      <td>-0.005291</td>\n",
       "      <td>-0.013123</td>\n",
       "      <td>0.005208</td>\n",
       "      <td>0.002867</td>\n",
       "      <td>-0.005767</td>\n",
       "      <td>-0.005167</td>\n",
       "      <td>-0.014563</td>\n",
       "      <td>-0.008999</td>\n",
       "    </tr>\n",
       "    <tr>\n",
       "      <th>1998-12-29</th>\n",
       "      <td>0.018302</td>\n",
       "      <td>0.009973</td>\n",
       "      <td>0.010638</td>\n",
       "      <td>0.014247</td>\n",
       "      <td>0.002861</td>\n",
       "      <td>0.022042</td>\n",
       "      <td>0.016615</td>\n",
       "      <td>0.022167</td>\n",
       "      <td>0.021792</td>\n",
       "    </tr>\n",
       "    <tr>\n",
       "      <th>1998-12-30</th>\n",
       "      <td>-0.002876</td>\n",
       "      <td>-0.015142</td>\n",
       "      <td>-0.003949</td>\n",
       "      <td>-0.004471</td>\n",
       "      <td>-0.003802</td>\n",
       "      <td>-0.006243</td>\n",
       "      <td>-0.008172</td>\n",
       "      <td>-0.008436</td>\n",
       "      <td>-0.008294</td>\n",
       "    </tr>\n",
       "  </tbody>\n",
       "</table>\n",
       "</div>"
      ],
      "text/plain": [
       "                 XLB       XLE       XLF       XLI       XLK       XLP  \\\n",
       "Date                                                                     \n",
       "1998-12-23  0.010504  0.020820  0.014743  0.017452  0.023893  0.024174   \n",
       "1998-12-24  0.023014 -0.005263  0.006607  0.013193 -0.003810 -0.001727   \n",
       "1998-12-28 -0.008709 -0.005291 -0.013123  0.005208  0.002867 -0.005767   \n",
       "1998-12-29  0.018302  0.009973  0.010638  0.014247  0.002861  0.022042   \n",
       "1998-12-30 -0.002876 -0.015142 -0.003949 -0.004471 -0.003802 -0.006243   \n",
       "\n",
       "                 XLU       XLV       XLY  \n",
       "Date                                      \n",
       "1998-12-23 -0.004191  0.022472  0.004294  \n",
       "1998-12-24  0.018412  0.006107  0.018327  \n",
       "1998-12-28 -0.005167 -0.014563 -0.008999  \n",
       "1998-12-29  0.016615  0.022167  0.021792  \n",
       "1998-12-30 -0.008172 -0.008436 -0.008294  "
      ]
     },
     "execution_count": 31,
     "metadata": {},
     "output_type": "execute_result"
    }
   ],
   "source": [
    "ret = df.pct_change().dropna()\n",
    "ret.head()"
   ]
  },
  {
   "cell_type": "code",
   "execution_count": 32,
   "metadata": {},
   "outputs": [],
   "source": [
    "## Function that returns Eigenvectors and Eigenvalues from returns\n",
    "def get_eigen(returns: pd.DataFrame) -> Tuple [np.ndarray, np.ndarray]:\n",
    "    \n",
    "    eig_vals, eig_vec = eig(returns.cov())\n",
    "    \n",
    "    #Sort Eigenvalues (largest to smallest)\n",
    "    idx = np.argsort(eig_vals)[::-1]\n",
    "    eig_vals = eig_vals[idx]\n",
    "    eig_vec = eig_vec[:,idx]\n",
    "    return eig_vals, eig_vec"
   ]
  },
  {
   "cell_type": "code",
   "execution_count": 36,
   "metadata": {},
   "outputs": [],
   "source": [
    "def eig_val_xy(eig_val: np.ndarray) -> Tuple[List, List]:\n",
    "    x = list(range(eig_val.size))\n",
    "    y = [val / sum (eig_val) for val in eig_val]\n",
    "    return x, y"
   ]
  },
  {
   "cell_type": "code",
   "execution_count": 35,
   "metadata": {},
   "outputs": [],
   "source": [
    "def plot_eig(eig_val: np.ndarray):\n",
    "    x, y = eig_val_xy(eig_val)\n",
    "    fig = figure()\n",
    "    plt.figure(figsize =(10,10))\n",
    "    plt.bar(x, y)\n",
    "    plt.plot(np.cumsum(y), color = 'c')\n",
    "    plt.title(\"Cumalative Explained Variance\")\n",
    "    return fig"
   ]
  },
  {
   "cell_type": "code",
   "execution_count": 33,
   "metadata": {},
   "outputs": [
    {
     "data": {
      "text/plain": [
       "<Figure size 432x288 with 0 Axes>"
      ]
     },
     "execution_count": 33,
     "metadata": {},
     "output_type": "execute_result"
    },
    {
     "data": {
      "text/plain": [
       "<Figure size 432x288 with 0 Axes>"
      ]
     },
     "metadata": {},
     "output_type": "display_data"
    },
    {
     "data": {
      "image/png": "[encoded data removed]",
      "text/plain": [
       "<Figure size 720x720 with 1 Axes>"
      ]
     },
     "metadata": {
      "needs_background": "light"
     },
     "output_type": "display_data"
    }
   ],
   "source": [
    "# Get Eigenvectors and Eigenvalues\n",
    "eig_val, eig_vec = get_eigen(ret)\n",
    "plot_eig(eig_val)"
   ]
  },
  {
   "cell_type": "code",
   "execution_count": null,
   "metadata": {},
   "outputs": [],
   "source": [
    "#plot 1st eigenvector against the market\n"
   ]
  },
  {
   "cell_type": "code",
   "execution_count": 37,
   "metadata": {},
   "outputs": [
    {
     "data": {
      "image/png": "[encoded data removed]",
      "text/plain": [
       "<Figure size 720x720 with 1 Axes>"
      ]
     },
     "metadata": {
      "needs_background": "light"
     },
     "output_type": "display_data"
    }
   ],
   "source": [
    "#project eigenvectors in 1-d\n",
    "y1 = eig_vec[0,:]\n",
    "\n",
    "plt.figure(figsize =(10,10))\n",
    "plt.scatter(y1, [0]*9, marker = 'o')\n",
    "plt.axhline(y = 0, color = 'g')\n",
    "plt.axvline(x = 0, color = 'darkcyan')\n",
    "\n",
    "for label, x_, y_ in zip(labels, y1, [0]*9):\n",
    "    plt.annotate(\n",
    "        label,\n",
    "        xy=(x_, y_), xytext=(np.random.randint(low =-30, high =30), np.random.randint(low =-30, high =30)),\n",
    "        textcoords='offset points', ha='right', va='bottom',\n",
    "        bbox=dict(boxstyle='round,pad=0.5', fc='lightblue', alpha=0.5),\n",
    "        arrowprops=dict(arrowstyle = '->', connectionstyle='arc3,rad=0'))"
   ]
  },
  {
   "cell_type": "code",
   "execution_count": 38,
   "metadata": {},
   "outputs": [
    {
     "data": {
      "image/png": "[encoded data removed]",
      "text/plain": [
       "<Figure size 720x720 with 1 Axes>"
      ]
     },
     "metadata": {
      "needs_background": "light"
     },
     "output_type": "display_data"
    }
   ],
   "source": [
    "#project eigenvectors in 2-d\n",
    "y1 = eig_vec[0,:]\n",
    "y2 = eig_vec[1,:]\n",
    "\n",
    "plt.figure(figsize =(10,10))\n",
    "plt.scatter(y1, y2, marker = 'o')\n",
    "plt.axhline(y = 0, color = 'g')\n",
    "plt.axvline(x = 0, color = 'darkcyan')\n",
    "\n",
    "for label, x_, y_ in zip(labels, y1, y2):\n",
    "    plt.annotate(\n",
    "        label,\n",
    "        xy=(x_, y_), xytext=(-20, 20),\n",
    "        textcoords='offset points', ha='right', va='bottom',\n",
    "        bbox=dict(boxstyle='round,pad=0.5', fc='lightblue', alpha=0.5),\n",
    "        arrowprops=dict(arrowstyle = '->', connectionstyle='arc3,rad=0'))"
   ]
  },
  {
   "cell_type": "code",
   "execution_count": 41,
   "metadata": {},
   "outputs": [],
   "source": [
    "## Interactive covariance\n",
    "def eig_vec_calc(returns, window, start = 0):\n",
    "    eig_val, _ = get_eigen(returns.iloc[start:start+window,:].cov())\n",
    "    x,y = eig_val_xy(eig_val)\n",
    "    plt.figure(figsize =(10,10))\n",
    "    plt.plot(np.cumsum(y), color = 'c')\n",
    "    plt.ylim((0,1))\n",
    "    plt.bar(x, y)\n",
    "    plt.title('Date: {} - {}'.format(returns.index[start], returns.index[start+window]))"
   ]
  },
  {
   "cell_type": "code",
   "execution_count": 42,
   "metadata": {},
   "outputs": [
    {
     "data": {
      "application/vnd.jupyter.widget-view+json": {
       "model_id": "cf72531abcf34ea5a3fe5901674c9295",
       "version_major": 2,
       "version_minor": 0
      },
      "text/plain": [
       "interactive(children=(IntSlider(value=160, description='window', max=300, min=30, step=10), IntSlider(value=0,…"
      ]
     },
     "metadata": {},
     "output_type": "display_data"
    },
    {
     "data": {
      "text/plain": [
       "<function __main__.eig_vec_calc(returns, window, start=0)>"
      ]
     },
     "execution_count": 42,
     "metadata": {},
     "output_type": "execute_result"
    }
   ],
   "source": [
    "\n",
    "interact(eig_vec_calc, returns = fixed(ret), window = (30,300,10), start = (0,4800,30))"
   ]
  },
  {
   "cell_type": "code",
   "execution_count": null,
   "metadata": {},
   "outputs": [],
   "source": []
  },
  {
   "cell_type": "code",
   "execution_count": null,
   "metadata": {},
   "outputs": [],
   "source": []
  }
 ],
 "metadata": {
  "kernelspec": {
   "display_name": "Python 3",
   "language": "python",
   "name": "python3"
  },
  "language_info": {
   "codemirror_mode": {
    "name": "ipython",
    "version": 3
   },
   "file_extension": ".py",
   "mimetype": "text/x-python",
   "name": "python",
   "nbconvert_exporter": "python",
   "pygments_lexer": "ipython3",
   "version": "3.6.6"
  }
 },
 "nbformat": 4,
 "nbformat_minor": 2
}
